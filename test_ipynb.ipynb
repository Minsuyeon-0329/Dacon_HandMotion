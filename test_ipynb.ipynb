{
  "nbformat": 4,
  "nbformat_minor": 0,
  "metadata": {
    "colab": {
      "name": "test.ipynb의 사본",
      "provenance": [],
      "mount_file_id": "https://github.com/Minsuyeon-0329/Dacon_HandMotion/blob/main/test.ipynb",
      "authorship_tag": "ABX9TyNrFYafbrNHYWZQKIoLx5St",
      "include_colab_link": true
    },
    "kernelspec": {
      "name": "python3",
      "display_name": "Python 3"
    },
    "language_info": {
      "name": "python"
    },
    "accelerator": "GPU"
  },
  "cells": [
    {
      "cell_type": "markdown",
      "metadata": {
        "id": "view-in-github",
        "colab_type": "text"
      },
      "source": [
        "<a href=\"https://colab.research.google.com/github/Minsuyeon-0329/Dacon_HandMotion/blob/main/test_ipynb.ipynb\" target=\"_parent\"><img src=\"https://colab.research.google.com/assets/colab-badge.svg\" alt=\"Open In Colab\"/></a>"
      ]
    },
    {
      "cell_type": "code",
      "source": [
        "print(\"깃허브 코랩 연동 테스트\")"
      ],
      "metadata": {
        "id": "q1_vlBg0zgQK",
        "outputId": "a0697ccf-2f52-4e3b-e916-9fc68d8bd332",
        "colab": {
          "base_uri": "https://localhost:8080/"
        }
      },
      "execution_count": null,
      "outputs": [
        {
          "output_type": "stream",
          "name": "stdout",
          "text": [
            "깃허브 코랩 연동 테스트\n"
          ]
        }
      ]
    },
    {
      "cell_type": "code",
      "source": [
        "%matplotlib inline\n",
        "\n",
        "from pathlib import Path\n",
        "\n",
        "\n",
        "import numpy as np\n",
        "import numpy.random as random\n",
        "import scipy as sp\n",
        "import scipy.stats as stats\n",
        "import pandas as pd\n",
        "from pandas import Series, DataFrame\n",
        "\n",
        "import matplotlib.pyplot as plt\n",
        "import matplotlib as mpl\n",
        "import seaborn as sns\n",
        "\n",
        "from scipy.stats import trim_mean\n",
        "from statsmodels import robust\n",
        "\n",
        "import seaborn as sns\n",
        "import matplotlib.pylab as plt\n",
        "\n",
        "%precision 3"
      ],
      "metadata": {
        "id": "wH9EyPJnJReZ",
        "outputId": "2bf1c10d-17e8-4f6d-c080-4f823925b0c9",
        "colab": {
          "base_uri": "https://localhost:8080/",
          "height": 72
        }
      },
      "execution_count": null,
      "outputs": [
        {
          "output_type": "stream",
          "name": "stderr",
          "text": [
            "/usr/local/lib/python3.7/dist-packages/statsmodels/tools/_testing.py:19: FutureWarning: pandas.util.testing is deprecated. Use the functions in the public API at pandas.testing instead.\n",
            "  import pandas.util.testing as tm\n"
          ]
        },
        {
          "output_type": "execute_result",
          "data": {
            "text/plain": [
              "'%.3f'"
            ],
            "application/vnd.google.colaboratory.intrinsic+json": {
              "type": "string"
            }
          },
          "metadata": {},
          "execution_count": 2
        }
      ]
    },
    {
      "cell_type": "code",
      "source": [
        ""
      ],
      "metadata": {
        "id": "IIYk_K3TKYDI"
      },
      "execution_count": null,
      "outputs": []
    },
    {
      "cell_type": "code",
      "source": [
        ""
      ],
      "metadata": {
        "id": "nwp1RB-GK7CQ"
      },
      "execution_count": null,
      "outputs": []
    }
  ]
}